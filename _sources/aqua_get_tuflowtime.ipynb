{
 "cells": [
  {
   "cell_type": "markdown",
   "id": "d897a03d-4547-449c-95c6-311c72f9a950",
   "metadata": {},
   "source": [
    "# Get TUFLOWFV Time\n",
    "\n",
    "### This will help to find the correct restart file number based on the date"
   ]
  },
  {
   "cell_type": "code",
   "execution_count": 15,
   "id": "0b761604-edde-4e00-9c04-af53e65b061d",
   "metadata": {},
   "outputs": [],
   "source": [
    "import datetime\n",
    "\n",
    "def get_tuflowtime(yyyy, mm, dd):\n",
    "    # The function gets the tuflowfv time from input of yyyy, mm, dd\n",
    "    tuflowtime = 24 * (datetime.datetime(yyyy, mm, dd) - datetime.datetime(1990, 1, 1)).days\n",
    "    return tuflowtime"
   ]
  },
  {
   "cell_type": "code",
   "execution_count": null,
   "id": "e6939e1d-19d3-4478-9d25-e2f112a5dd16",
   "metadata": {},
   "outputs": [],
   "source": [
    "# Prompt the user to enter the date\n",
    "date_input = input(\"Enter the date (YYYY-MM-DD): \")\n",
    "year, month, day = map(int, date_input.split('-'))\n",
    "# Call the get_tuflowtime function with the user's input\n",
    "tuflowtime = get_tuflowtime(year, month, day)"
   ]
  },
  {
   "cell_type": "code",
   "execution_count": 14,
   "id": "0b9ec7d0-a08e-4881-ac86-3fe4b3aa7755",
   "metadata": {},
   "outputs": [
    {
     "name": "stdout",
     "output_type": "stream",
     "text": [
      "tuflowtime: 285120\n"
     ]
    }
   ],
   "source": [
    "# Print the tuflowtime value\n",
    "print(\"tuflowtime:\", tuflowtime)"
   ]
  },
  {
   "cell_type": "code",
   "execution_count": null,
   "id": "cd4c7a28-0064-44f3-82d3-0dbeceea38bb",
   "metadata": {},
   "outputs": [],
   "source": []
  }
 ],
 "metadata": {
  "kernelspec": {
   "display_name": "Python 3 (ipykernel)",
   "language": "python",
   "name": "python3"
  },
  "language_info": {
   "codemirror_mode": {
    "name": "ipython",
    "version": 3
   },
   "file_extension": ".py",
   "mimetype": "text/x-python",
   "name": "python",
   "nbconvert_exporter": "python",
   "pygments_lexer": "ipython3",
   "version": "3.10.8"
  }
 },
 "nbformat": 4,
 "nbformat_minor": 5
}
